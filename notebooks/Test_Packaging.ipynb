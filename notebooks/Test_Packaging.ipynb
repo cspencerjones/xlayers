{
 "cells": [
  {
   "cell_type": "code",
   "execution_count": 1,
   "metadata": {},
   "outputs": [],
   "source": [
    "#These are the modules you will need\n",
    "from xlayers import finegrid, layers\n",
    "from xlayers.core import layers_numpy\n",
    "from xlayers.core import layers_xarray"
   ]
  },
  {
   "cell_type": "code",
   "execution_count": 2,
   "metadata": {},
   "outputs": [],
   "source": [
    "# Import some packages\n",
    "import os\n",
    "os.environ['NUMPY_EXPERIMENTAL_ARRAY_FUNCTION'] = '0'\n",
    "\n",
    "\n",
    "from matplotlib import pyplot as plt\n",
    "import numpy as np\n",
    "import xarray as xr\n",
    "import gcsfs\n",
    "\n",
    "%matplotlib inline\n",
    "plt.rcParams['figure.figsize'] = 12, 6\n",
    "%config InlineBackend.figure_format = 'retina' "
   ]
  },
  {
   "cell_type": "code",
   "execution_count": 3,
   "metadata": {},
   "outputs": [
    {
     "data": {
      "text/html": [
       "<div>\n",
       "<style scoped>\n",
       "    .dataframe tbody tr th:only-of-type {\n",
       "        vertical-align: middle;\n",
       "    }\n",
       "\n",
       "    .dataframe tbody tr th {\n",
       "        vertical-align: top;\n",
       "    }\n",
       "\n",
       "    .dataframe thead th {\n",
       "        text-align: right;\n",
       "    }\n",
       "</style>\n",
       "<table border=\"1\" class=\"dataframe\">\n",
       "  <thead>\n",
       "    <tr style=\"text-align: right;\">\n",
       "      <th></th>\n",
       "      <th>activity_id</th>\n",
       "      <th>institution_id</th>\n",
       "      <th>source_id</th>\n",
       "      <th>experiment_id</th>\n",
       "      <th>member_id</th>\n",
       "      <th>table_id</th>\n",
       "      <th>variable_id</th>\n",
       "      <th>grid_label</th>\n",
       "      <th>zstore</th>\n",
       "      <th>dcpp_init_year</th>\n",
       "    </tr>\n",
       "  </thead>\n",
       "  <tbody>\n",
       "    <tr>\n",
       "      <th>0</th>\n",
       "      <td>AerChemMIP</td>\n",
       "      <td>AS-RCEC</td>\n",
       "      <td>TaiESM1</td>\n",
       "      <td>histSST</td>\n",
       "      <td>r1i1p1f1</td>\n",
       "      <td>AERmon</td>\n",
       "      <td>od550aer</td>\n",
       "      <td>gn</td>\n",
       "      <td>gs://cmip6/AerChemMIP/AS-RCEC/TaiESM1/histSST/...</td>\n",
       "      <td>NaN</td>\n",
       "    </tr>\n",
       "    <tr>\n",
       "      <th>1</th>\n",
       "      <td>AerChemMIP</td>\n",
       "      <td>BCC</td>\n",
       "      <td>BCC-ESM1</td>\n",
       "      <td>histSST</td>\n",
       "      <td>r1i1p1f1</td>\n",
       "      <td>AERmon</td>\n",
       "      <td>mmrbc</td>\n",
       "      <td>gn</td>\n",
       "      <td>gs://cmip6/AerChemMIP/BCC/BCC-ESM1/histSST/r1i...</td>\n",
       "      <td>NaN</td>\n",
       "    </tr>\n",
       "    <tr>\n",
       "      <th>2</th>\n",
       "      <td>AerChemMIP</td>\n",
       "      <td>BCC</td>\n",
       "      <td>BCC-ESM1</td>\n",
       "      <td>histSST</td>\n",
       "      <td>r1i1p1f1</td>\n",
       "      <td>AERmon</td>\n",
       "      <td>mmrdust</td>\n",
       "      <td>gn</td>\n",
       "      <td>gs://cmip6/AerChemMIP/BCC/BCC-ESM1/histSST/r1i...</td>\n",
       "      <td>NaN</td>\n",
       "    </tr>\n",
       "    <tr>\n",
       "      <th>3</th>\n",
       "      <td>AerChemMIP</td>\n",
       "      <td>BCC</td>\n",
       "      <td>BCC-ESM1</td>\n",
       "      <td>histSST</td>\n",
       "      <td>r1i1p1f1</td>\n",
       "      <td>AERmon</td>\n",
       "      <td>mmroa</td>\n",
       "      <td>gn</td>\n",
       "      <td>gs://cmip6/AerChemMIP/BCC/BCC-ESM1/histSST/r1i...</td>\n",
       "      <td>NaN</td>\n",
       "    </tr>\n",
       "    <tr>\n",
       "      <th>4</th>\n",
       "      <td>AerChemMIP</td>\n",
       "      <td>BCC</td>\n",
       "      <td>BCC-ESM1</td>\n",
       "      <td>histSST</td>\n",
       "      <td>r1i1p1f1</td>\n",
       "      <td>AERmon</td>\n",
       "      <td>mmrso4</td>\n",
       "      <td>gn</td>\n",
       "      <td>gs://cmip6/AerChemMIP/BCC/BCC-ESM1/histSST/r1i...</td>\n",
       "      <td>NaN</td>\n",
       "    </tr>\n",
       "  </tbody>\n",
       "</table>\n",
       "</div>"
      ],
      "text/plain": [
       "  activity_id institution_id source_id experiment_id member_id table_id  \\\n",
       "0  AerChemMIP        AS-RCEC   TaiESM1       histSST  r1i1p1f1   AERmon   \n",
       "1  AerChemMIP            BCC  BCC-ESM1       histSST  r1i1p1f1   AERmon   \n",
       "2  AerChemMIP            BCC  BCC-ESM1       histSST  r1i1p1f1   AERmon   \n",
       "3  AerChemMIP            BCC  BCC-ESM1       histSST  r1i1p1f1   AERmon   \n",
       "4  AerChemMIP            BCC  BCC-ESM1       histSST  r1i1p1f1   AERmon   \n",
       "\n",
       "  variable_id grid_label                                             zstore  \\\n",
       "0    od550aer         gn  gs://cmip6/AerChemMIP/AS-RCEC/TaiESM1/histSST/...   \n",
       "1       mmrbc         gn  gs://cmip6/AerChemMIP/BCC/BCC-ESM1/histSST/r1i...   \n",
       "2     mmrdust         gn  gs://cmip6/AerChemMIP/BCC/BCC-ESM1/histSST/r1i...   \n",
       "3       mmroa         gn  gs://cmip6/AerChemMIP/BCC/BCC-ESM1/histSST/r1i...   \n",
       "4      mmrso4         gn  gs://cmip6/AerChemMIP/BCC/BCC-ESM1/histSST/r1i...   \n",
       "\n",
       "   dcpp_init_year  \n",
       "0             NaN  \n",
       "1             NaN  \n",
       "2             NaN  \n",
       "3             NaN  \n",
       "4             NaN  "
      ]
     },
     "execution_count": 3,
     "metadata": {},
     "output_type": "execute_result"
    }
   ],
   "source": [
    "#Look at what CMIP6 data is on the cloud\n",
    "import pandas as pd\n",
    "df = pd.read_csv('https://storage.googleapis.com/cmip6/pangeo-cmip6.csv')\n",
    "df.head()"
   ]
  },
  {
   "cell_type": "code",
   "execution_count": 4,
   "metadata": {},
   "outputs": [],
   "source": [
    "#Load some of that CMIP6 data\n",
    "df_theta = df[(df.table_id == 'Omon') & (df.variable_id == 'thetao')]\n",
    "uri = df_theta[(df_theta.source_id == 'SAM0-UNICON') &\n",
    "                         (df_theta.experiment_id == 'historical')].zstore.values[0]\n",
    "gcs = gcsfs.GCSFileSystem(token='anon')\n",
    "ds_theta = xr.open_zarr(gcs.get_mapper(uri), consolidated=True)\n",
    "df_salt = df[(df.table_id == 'Omon') & (df.variable_id == 'so')]\n",
    "uri = df_salt[(df_salt.source_id == 'SAM0-UNICON') &\n",
    "                         (df_salt.experiment_id == 'historical')].zstore.values[0]\n",
    "gcs = gcsfs.GCSFileSystem(token='anon')\n",
    "ds_salt = xr.open_zarr(gcs.get_mapper(uri), consolidated=True)\n",
    "df_v = df[(df.table_id == 'Omon') & (df.variable_id == 'vo')]\n",
    "uri = df_v[(df_v.source_id == 'SAM0-UNICON') &\n",
    "                         (df_v.experiment_id == 'historical')].zstore.values[0]\n",
    "gcs = gcsfs.GCSFileSystem(token='anon')\n",
    "ds_v = xr.open_zarr(gcs.get_mapper(uri), consolidated=True)"
   ]
  },
  {
   "cell_type": "code",
   "execution_count": 5,
   "metadata": {},
   "outputs": [],
   "source": [
    "#find density from temperature and salinity\n",
    "import gsw\n",
    "dens = xr.apply_ufunc(gsw.density.sigma0, ds_salt['so'], ds_theta['thetao'],\n",
    "                      dask='parallelized', output_dtypes=[float, ]\n",
    "                     ).rename('dens').to_dataset()"
   ]
  },
  {
   "cell_type": "code",
   "execution_count": 6,
   "metadata": {},
   "outputs": [],
   "source": [
    "#this function calculates the quantities drF and drC from the depth levels of your model \n",
    "#(here lev_bnds defines the depth of each of the cell boundaries)\n",
    "def finegrid_metrics(levs,lev_bnds):\n",
    "    drF = np.diff(lev_bnds,axis=1)\n",
    "    drC = np.concatenate((np.array([levs[0]]),np.diff(levs,axis=0),np.array([lev_bnds[-1,-1]-levs[-1]])))\n",
    "    return(drF,drC)"
   ]
  },
  {
   "cell_type": "code",
   "execution_count": 7,
   "metadata": {},
   "outputs": [],
   "source": [
    "#actually apply the function\n",
    "fine_drf,fine_drc = finegrid_metrics(ds_theta.lev.values,ds_theta.lev_bnds.values)"
   ]
  },
  {
   "cell_type": "code",
   "execution_count": 8,
   "metadata": {},
   "outputs": [
    {
     "data": {
      "text/plain": [
       "[<matplotlib.lines.Line2D at 0x7f911ab529e8>]"
      ]
     },
     "execution_count": 8,
     "metadata": {},
     "output_type": "execute_result"
    },
    {
     "data": {
      "image/png": "[encoded data removed]",
      "text/plain": [
       "<Figure size 432x288 with 1 Axes>"
      ]
     },
     "metadata": {
      "image/png": {
       "height": 248,
       "width": 368
      },
      "needs_background": "light"
     },
     "output_type": "display_data"
    }
   ],
   "source": [
    "#Here we call the first xlayers function, finegrid, that calculates key parameters for rebinning the data\n",
    "drf_finer, mapindex, mapfact, cellindex = finegrid.finegrid(np.squeeze(fine_drf),np.squeeze(fine_drc),[fine_drf.size,10])\n",
    "plt.plot(cellindex)"
   ]
  },
  {
   "cell_type": "code",
   "execution_count": 9,
   "metadata": {},
   "outputs": [],
   "source": [
    "#here we define the new coordinate system\n",
    "thetalayers = np.linspace(-3,31,80)\n",
    "\n",
    "#this is the main function in xlayers: it is being applied to a single column here for demonstration purposes\n",
    "VH = layers.layers_1(ds_v.vo[0,:,100,100].values, ds_theta.thetao[0,:,100,100].values,\n",
    "                     thetalayers, mapfact, mapindex, cellindex, drf_finer)"
   ]
  },
  {
   "cell_type": "code",
   "execution_count": 10,
   "metadata": {},
   "outputs": [],
   "source": [
    "#now we prepare more data to go into the \"layers\" function\n",
    "v_in = ds_v.vo[0,:,:,:]#.transpose('lev','time','j','i')\n",
    "theta_in = dens.dens[0,:,:,:]#.transpose('lev','time','j','i')"
   ]
  },
  {
   "cell_type": "code",
   "execution_count": 11,
   "metadata": {},
   "outputs": [],
   "source": [
    "thetalayers = np.linspace(20,30,80)\n",
    "\n",
    "#Here we apply the \"layers\" function to an xarray. 'lev' is the name of the vertical coordinate in our dataset\n",
    "#'Tlev' is the name of the new coordinate\n",
    "v_lay1 = layers_xarray(v_in, theta_in,thetalayers, \n",
    "                           mapfact, mapindex, cellindex, drf_finer, 'lev', 'Tlev')\n",
    "#Note, v_lay1 is thickness weighted (i.e. if the input has units m/s, the output has units m^2/s)\n",
    "#To transform back into non-thickness-weighted coordinates, find the thickness of each layer by using \n",
    "#xr.ones_like(v_in) as input, and divide through by this thickness"
   ]
  },
  {
   "cell_type": "code",
   "execution_count": null,
   "metadata": {},
   "outputs": [
    {
     "name": "stdout",
     "output_type": "stream",
     "text": [
      "Warning: theta_in may not be monotonically ascending/descending\n"
     ]
    }
   ],
   "source": [
    "#Here I basically plot the ROC from the thickness-weighted velocity. \n",
    "#Note: I have not summed with dx because I haven't had time to put it in\n",
    "fig = plt.figure(figsize=(10,7))\n",
    "(v_lay1).cumsum('Tlev').sum('i').plot(x='j',yincrease=False)"
   ]
  },
  {
   "cell_type": "code",
   "execution_count": null,
   "metadata": {},
   "outputs": [],
   "source": []
  }
 ],
 "metadata": {
  "kernelspec": {
   "display_name": "Python [conda env:pangeo1]",
   "language": "python",
   "name": "conda-env-pangeo1-py"
  },
  "language_info": {
   "codemirror_mode": {
    "name": "ipython",
    "version": 3
   },
   "file_extension": ".py",
   "mimetype": "text/x-python",
   "name": "python",
   "nbconvert_exporter": "python",
   "pygments_lexer": "ipython3",
   "version": "3.6.7"
  }
 },
 "nbformat": 4,
 "nbformat_minor": 4
}
